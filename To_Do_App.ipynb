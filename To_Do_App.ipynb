{
 "cells": [
  {
   "cell_type": "code",
   "execution_count": 9,
   "metadata": {},
   "outputs": [
    {
     "name": "stdout",
     "output_type": "stream",
     "text": [
      "It is Jun 01, 2024 18:19:28\n"
     ]
    }
   ],
   "source": [
    "#Time\n",
    "\n",
    "import time\n",
    "now = time.strftime(\"%b %d, %Y %H:%M:%S\")\n",
    "print(\"It is\", now)"
   ]
  },
  {
   "cell_type": "code",
   "execution_count": 10,
   "metadata": {},
   "outputs": [
    {
     "name": "stdout",
     "output_type": "stream",
     "text": [
      "Hello\n",
      "['Do the laundry.\\n', 'Help the neighbour.\\n', 'Fix the bike.\\n', 'Learn Python.\\n', '\\n']\n"
     ]
    }
   ],
   "source": [
    "FILEPATH = \"todos.txt\"\n",
    "\n",
    "\n",
    "def get_todos(filepath=FILEPATH):\n",
    "    \"\"\" Read a text file and return the list of\n",
    "    to-do items.\n",
    "    \"\"\"\n",
    "    with open(filepath, 'r') as file_local:\n",
    "        todos_local = file_local.readlines()\n",
    "    return todos_local\n",
    "\n",
    "\n",
    "def write_todos(todos_arg, filepath=FILEPATH):\n",
    "    \"\"\" Write the to-do items list in the text file.\"\"\"\n",
    "    with open(filepath, 'w') as file:\n",
    "        file.writelines(todos_arg)\n",
    "\n",
    "\n",
    "if __name__ == \"__main__\":\n",
    "    print(\"Hello\")\n",
    "    print(get_todos())"
   ]
  },
  {
   "cell_type": "code",
   "execution_count": 13,
   "metadata": {},
   "outputs": [
    {
     "name": "stdout",
     "output_type": "stream",
     "text": [
      "1-Do the laundry.\n",
      "2-Help the neighbour.\n",
      "3-Fix the bike.\n",
      "4-Learn Python.\n",
      "1-Do the laundry.\n",
      "2-Help the neighbour.\n",
      "3-Fix the bike.\n",
      "4-Learn Python.\n",
      "5-Learn Git\n",
      "Todo Learn Git was removed from the list.\n",
      "1-Do the laundry.\n",
      "2-Help the neighbour.\n",
      "3-Fix the bike.\n",
      "4-Learn Python.\n",
      "4\n",
      "1-Do the laundry.\n",
      "2-Help the neighbour.\n",
      "3-Fix the bike.\n",
      "4-Learn Python and Git\n",
      "Bye!\n"
     ]
    }
   ],
   "source": [
    "while True:\n",
    "    user_action = input(\"Type add, show, edit, complete or exit: \")\n",
    "    user_action = user_action.strip()\n",
    "\n",
    "    if user_action.startswith(\"add\"):\n",
    "        todo = user_action[4:]\n",
    "\n",
    "        todos = get_todos()\n",
    "\n",
    "        todos.append(todo + '\\n')\n",
    "\n",
    "        write_todos(todos)\n",
    "\n",
    "    elif user_action.startswith('show'):\n",
    "\n",
    "        todos = get_todos()\n",
    "\n",
    "        for index, item in enumerate(todos):\n",
    "            item = item.strip('\\n')\n",
    "            row = f\"{index + 1}-{item}\"\n",
    "            print(row)\n",
    "    elif user_action.startswith('edit'):\n",
    "        try:\n",
    "            number = int(user_action[5:])\n",
    "            print(number)\n",
    "\n",
    "            number = number - 1\n",
    "\n",
    "            todos = get_todos()\n",
    "\n",
    "            new_todo = input(\"Enter new todo: \")\n",
    "            todos[number] = new_todo + '\\n'\n",
    "\n",
    "            write_todos(todos)\n",
    "        except ValueError:\n",
    "            print(\"Your command is not valid.\")\n",
    "            continue\n",
    "\n",
    "    elif user_action.startswith('complete'):\n",
    "        try:\n",
    "            number = int(user_action[9:])\n",
    "\n",
    "            todos = get_todos()\n",
    "            index = number - 1\n",
    "            todo_to_remove = todos[index].strip('\\n')\n",
    "            todos.pop(index)\n",
    "\n",
    "            write_todos(todos)\n",
    "\n",
    "            message = f\"Todo {todo_to_remove} was removed from the list.\"\n",
    "            print(message)\n",
    "        except IndexError:\n",
    "            print(\"There is no item with that number.\")\n",
    "            continue\n",
    "\n",
    "    elif user_action.startswith('exit'):\n",
    "        break\n",
    "    else:\n",
    "        print(\"Command is not valid.\")\n",
    "\n",
    "print(\"Bye!\")\n"
   ]
  },
  {
   "cell_type": "code",
   "execution_count": null,
   "metadata": {},
   "outputs": [],
   "source": []
  }
 ],
 "metadata": {
  "kernelspec": {
   "display_name": "leetcode_env",
   "language": "python",
   "name": "python3"
  },
  "language_info": {
   "codemirror_mode": {
    "name": "ipython",
    "version": 3
   },
   "file_extension": ".py",
   "mimetype": "text/x-python",
   "name": "python",
   "nbconvert_exporter": "python",
   "pygments_lexer": "ipython3",
   "version": "3.12.3"
  }
 },
 "nbformat": 4,
 "nbformat_minor": 2
}
